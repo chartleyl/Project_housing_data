{
 "cells": [
  {
   "cell_type": "markdown",
   "id": "94f3ed08",
   "metadata": {},
   "source": [
    "### 1.ANALYSE DE DONNÉES "
   ]
  },
  {
   "cell_type": "markdown",
   "id": "f3dee501",
   "metadata": {},
   "source": [
    "1.Chargement des Données"
   ]
  },
  {
   "cell_type": "code",
   "execution_count": 4,
   "id": "0be93d97",
   "metadata": {},
   "outputs": [
    {
     "data": {
      "text/html": [
       "<table class=\"dataframe\">\n",
       "<caption>A data.frame: 6 × 5</caption>\n",
       "<thead>\n",
       "\t<tr><th></th><th scope=col>Crime.Rate</th><th scope=col>Average.Rooms</th><th scope=col>Public.Transport.Access</th><th scope=col>Number.of.Schools</th><th scope=col>Median.Home.Value</th></tr>\n",
       "\t<tr><th></th><th scope=col>&lt;dbl&gt;</th><th scope=col>&lt;dbl&gt;</th><th scope=col>&lt;int&gt;</th><th scope=col>&lt;int&gt;</th><th scope=col>&lt;dbl&gt;</th></tr>\n",
       "</thead>\n",
       "<tbody>\n",
       "\t<tr><th scope=row>1</th><td>      NA</td><td>5.585324</td><td>10</td><td>3</td><td>47.90077</td></tr>\n",
       "\t<tr><th scope=row>2</th><td>2.654339</td><td>5.395206</td><td> 3</td><td>6</td><td>41.53910</td></tr>\n",
       "\t<tr><th scope=row>3</th><td>4.619221</td><td>6.033965</td><td> 9</td><td>4</td><td>48.51757</td></tr>\n",
       "\t<tr><th scope=row>4</th><td>6.807575</td><td>5.418335</td><td>10</td><td>5</td><td>42.50757</td></tr>\n",
       "\t<tr><th scope=row>5</th><td>2.414617</td><td>6.189320</td><td> 2</td><td>4</td><td>51.39125</td></tr>\n",
       "\t<tr><th scope=row>6</th><td>2.414658</td><td>5.964833</td><td> 6</td><td>4</td><td>49.64657</td></tr>\n",
       "</tbody>\n",
       "</table>\n"
      ],
      "text/latex": [
       "A data.frame: 6 × 5\n",
       "\\begin{tabular}{r|lllll}\n",
       "  & Crime.Rate & Average.Rooms & Public.Transport.Access & Number.of.Schools & Median.Home.Value\\\\\n",
       "  & <dbl> & <dbl> & <int> & <int> & <dbl>\\\\\n",
       "\\hline\n",
       "\t1 &       NA & 5.585324 & 10 & 3 & 47.90077\\\\\n",
       "\t2 & 2.654339 & 5.395206 &  3 & 6 & 41.53910\\\\\n",
       "\t3 & 4.619221 & 6.033965 &  9 & 4 & 48.51757\\\\\n",
       "\t4 & 6.807575 & 5.418335 & 10 & 5 & 42.50757\\\\\n",
       "\t5 & 2.414617 & 6.189320 &  2 & 4 & 51.39125\\\\\n",
       "\t6 & 2.414658 & 5.964833 &  6 & 4 & 49.64657\\\\\n",
       "\\end{tabular}\n"
      ],
      "text/markdown": [
       "\n",
       "A data.frame: 6 × 5\n",
       "\n",
       "| <!--/--> | Crime.Rate &lt;dbl&gt; | Average.Rooms &lt;dbl&gt; | Public.Transport.Access &lt;int&gt; | Number.of.Schools &lt;int&gt; | Median.Home.Value &lt;dbl&gt; |\n",
       "|---|---|---|---|---|---|\n",
       "| 1 |       NA | 5.585324 | 10 | 3 | 47.90077 |\n",
       "| 2 | 2.654339 | 5.395206 |  3 | 6 | 41.53910 |\n",
       "| 3 | 4.619221 | 6.033965 |  9 | 4 | 48.51757 |\n",
       "| 4 | 6.807575 | 5.418335 | 10 | 5 | 42.50757 |\n",
       "| 5 | 2.414617 | 6.189320 |  2 | 4 | 51.39125 |\n",
       "| 6 | 2.414658 | 5.964833 |  6 | 4 | 49.64657 |\n",
       "\n"
      ],
      "text/plain": [
       "  Crime.Rate Average.Rooms Public.Transport.Access Number.of.Schools\n",
       "1       NA   5.585324      10                      3                \n",
       "2 2.654339   5.395206       3                      6                \n",
       "3 4.619221   6.033965       9                      4                \n",
       "4 6.807575   5.418335      10                      5                \n",
       "5 2.414617   6.189320       2                      4                \n",
       "6 2.414658   5.964833       6                      4                \n",
       "  Median.Home.Value\n",
       "1 47.90077         \n",
       "2 41.53910         \n",
       "3 48.51757         \n",
       "4 42.50757         \n",
       "5 51.39125         \n",
       "6 49.64657         "
      ]
     },
     "metadata": {},
     "output_type": "display_data"
    }
   ],
   "source": [
    "#Chargeons les données\n",
    "data<-read.csv(\"housing_data.csv\")\n",
    "\n",
    "#Inspectons les premiris lignes\n",
    "head(data)\n"
   ]
  },
  {
   "cell_type": "raw",
   "id": "1376432a",
   "metadata": {},
   "source": [
    "2. Explorer les Données"
   ]
  },
  {
   "cell_type": "code",
   "execution_count": 12,
   "id": "e9a78dc0",
   "metadata": {},
   "outputs": [
    {
     "data": {
      "text/html": [
       "<table class=\"dataframe\">\n",
       "<caption>A data.frame: 6 × 5</caption>\n",
       "<thead>\n",
       "\t<tr><th></th><th scope=col>Crime.Rate</th><th scope=col>Average.Rooms</th><th scope=col>Public.Transport.Access</th><th scope=col>Number.of.Schools</th><th scope=col>Median.Home.Value</th></tr>\n",
       "\t<tr><th></th><th scope=col>&lt;dbl&gt;</th><th scope=col>&lt;dbl&gt;</th><th scope=col>&lt;int&gt;</th><th scope=col>&lt;int&gt;</th><th scope=col>&lt;dbl&gt;</th></tr>\n",
       "</thead>\n",
       "<tbody>\n",
       "\t<tr><th scope=row>501</th><td>5.315444</td><td>6.626635</td><td>9</td><td>4</td><td>51.99554</td></tr>\n",
       "\t<tr><th scope=row>502</th><td>      NA</td><td>6.444620</td><td>4</td><td>6</td><td>53.57924</td></tr>\n",
       "\t<tr><th scope=row>503</th><td>0.100000</td><td>6.734687</td><td>4</td><td>3</td><td>49.65183</td></tr>\n",
       "\t<tr><th scope=row>504</th><td>4.407423</td><td>5.625335</td><td>2</td><td>1</td><td>43.67766</td></tr>\n",
       "\t<tr><th scope=row>505</th><td>1.373394</td><td>6.922176</td><td>6</td><td>3</td><td>50.66238</td></tr>\n",
       "\t<tr><th scope=row>506</th><td>1.782187</td><td>6.138320</td><td>2</td><td>4</td><td>45.43800</td></tr>\n",
       "</tbody>\n",
       "</table>\n"
      ],
      "text/latex": [
       "A data.frame: 6 × 5\n",
       "\\begin{tabular}{r|lllll}\n",
       "  & Crime.Rate & Average.Rooms & Public.Transport.Access & Number.of.Schools & Median.Home.Value\\\\\n",
       "  & <dbl> & <dbl> & <int> & <int> & <dbl>\\\\\n",
       "\\hline\n",
       "\t501 & 5.315444 & 6.626635 & 9 & 4 & 51.99554\\\\\n",
       "\t502 &       NA & 6.444620 & 4 & 6 & 53.57924\\\\\n",
       "\t503 & 0.100000 & 6.734687 & 4 & 3 & 49.65183\\\\\n",
       "\t504 & 4.407423 & 5.625335 & 2 & 1 & 43.67766\\\\\n",
       "\t505 & 1.373394 & 6.922176 & 6 & 3 & 50.66238\\\\\n",
       "\t506 & 1.782187 & 6.138320 & 2 & 4 & 45.43800\\\\\n",
       "\\end{tabular}\n"
      ],
      "text/markdown": [
       "\n",
       "A data.frame: 6 × 5\n",
       "\n",
       "| <!--/--> | Crime.Rate &lt;dbl&gt; | Average.Rooms &lt;dbl&gt; | Public.Transport.Access &lt;int&gt; | Number.of.Schools &lt;int&gt; | Median.Home.Value &lt;dbl&gt; |\n",
       "|---|---|---|---|---|---|\n",
       "| 501 | 5.315444 | 6.626635 | 9 | 4 | 51.99554 |\n",
       "| 502 |       NA | 6.444620 | 4 | 6 | 53.57924 |\n",
       "| 503 | 0.100000 | 6.734687 | 4 | 3 | 49.65183 |\n",
       "| 504 | 4.407423 | 5.625335 | 2 | 1 | 43.67766 |\n",
       "| 505 | 1.373394 | 6.922176 | 6 | 3 | 50.66238 |\n",
       "| 506 | 1.782187 | 6.138320 | 2 | 4 | 45.43800 |\n",
       "\n"
      ],
      "text/plain": [
       "    Crime.Rate Average.Rooms Public.Transport.Access Number.of.Schools\n",
       "501 5.315444   6.626635      9                       4                \n",
       "502       NA   6.444620      4                       6                \n",
       "503 0.100000   6.734687      4                       3                \n",
       "504 4.407423   5.625335      2                       1                \n",
       "505 1.373394   6.922176      6                       3                \n",
       "506 1.782187   6.138320      2                       4                \n",
       "    Median.Home.Value\n",
       "501 51.99554         \n",
       "502 53.57924         \n",
       "503 49.65183         \n",
       "504 43.67766         \n",
       "505 50.66238         \n",
       "506 45.43800         "
      ]
     },
     "metadata": {},
     "output_type": "display_data"
    }
   ],
   "source": [
    "tail(data)"
   ]
  },
  {
   "cell_type": "code",
   "execution_count": 5,
   "id": "7d51a385",
   "metadata": {},
   "outputs": [
    {
     "name": "stdout",
     "output_type": "stream",
     "text": [
      "'data.frame':\t506 obs. of  5 variables:\n",
      " $ Crime.Rate             : num  NA 2.65 4.62 6.81 2.41 ...\n",
      " $ Average.Rooms          : num  5.59 5.4 6.03 5.42 6.19 ...\n",
      " $ Public.Transport.Access: int  10 3 9 10 2 6 7 9 3 10 ...\n",
      " $ Number.of.Schools      : int  3 6 4 5 4 4 4 4 6 4 ...\n",
      " $ Median.Home.Value      : num  47.9 41.5 48.5 42.5 51.4 ...\n"
     ]
    }
   ],
   "source": [
    "#Vérifier la structure des données \n",
    "str(data)\n"
   ]
  },
  {
   "cell_type": "code",
   "execution_count": 6,
   "id": "535dd485",
   "metadata": {},
   "outputs": [
    {
     "data": {
      "text/plain": [
       "   Crime.Rate        Average.Rooms   Public.Transport.Access Number.of.Schools\n",
       " Min.   : 0.005305   Min.   :4.112   Min.   : 1.000          Min.   : 0.000   \n",
       " 1st Qu.: 1.299938   1st Qu.:5.598   1st Qu.: 3.000          1st Qu.: 4.000   \n",
       " Median : 3.031481   Median :6.033   Median : 5.000          Median : 5.000   \n",
       " Mean   : 3.137415   Mean   :6.026   Mean   : 5.421          Mean   : 4.992   \n",
       " 3rd Qu.: 4.584798   3rd Qu.:6.460   3rd Qu.: 8.000          3rd Qu.: 6.000   \n",
       " Max.   :12.631829   Max.   :7.801   Max.   :10.000          Max.   :10.000   \n",
       " NA's   :25          NA's   :15                                               \n",
       " Median.Home.Value\n",
       " Min.   :31.55    \n",
       " 1st Qu.:43.23    \n",
       " Median :46.91    \n",
       " Mean   :47.10    \n",
       " 3rd Qu.:50.85    \n",
       " Max.   :62.56    \n",
       "                  "
      ]
     },
     "metadata": {},
     "output_type": "display_data"
    }
   ],
   "source": [
    "#Résumé des données \n",
    "summary(data)"
   ]
  },
  {
   "cell_type": "raw",
   "id": "d48deb76",
   "metadata": {},
   "source": [
    "3. Statistiques Descriptives"
   ]
  },
  {
   "cell_type": "code",
   "execution_count": 14,
   "id": "a061eba2",
   "metadata": {},
   "outputs": [],
   "source": [
    "# Créons une fonction pour calculer le mode\n",
    "\n",
    "mode_function<-function(v){\n",
    "    uniq<-unique(v)\n",
    "    uniq[which.max(tabulate(match(v,uniq)))]\n",
    "}"
   ]
  },
  {
   "cell_type": "code",
   "execution_count": 17,
   "id": "f91bff4e",
   "metadata": {},
   "outputs": [],
   "source": [
    "#Calculons et affichons les statistiques descriptives\n",
    "\n",
    "stats <- data %>%\n",
    "  summarise(across(everything(), list(mean = ~mean(. , na.rm = TRUE), \n",
    "                                       median = ~median(. , na.rm = TRUE), \n",
    "                                       mode = ~mode_function(.))))"
   ]
  },
  {
   "cell_type": "code",
   "execution_count": 18,
   "id": "b75d5a51",
   "metadata": {},
   "outputs": [
    {
     "name": "stdout",
     "output_type": "stream",
     "text": [
      "  Crime.Rate_mean Crime.Rate_median Crime.Rate_mode Average.Rooms_mean\n",
      "1        3.137415          3.031481             0.1           6.025737\n",
      "  Average.Rooms_median Average.Rooms_mode Public.Transport.Access_mean\n",
      "1             6.033179                 NA                     5.420949\n",
      "  Public.Transport.Access_median Public.Transport.Access_mode\n",
      "1                              5                            2\n",
      "  Number.of.Schools_mean Number.of.Schools_median Number.of.Schools_mode\n",
      "1               4.992095                        5                      5\n",
      "  Median.Home.Value_mean Median.Home.Value_median Median.Home.Value_mode\n",
      "1               47.10356                 46.91257               47.90077\n"
     ]
    }
   ],
   "source": [
    "print(stats)"
   ]
  },
  {
   "cell_type": "raw",
   "id": "c01b1dcd",
   "metadata": {},
   "source": [
    "4. Analyse de Corrélation"
   ]
  },
  {
   "cell_type": "code",
   "execution_count": 21,
   "id": "bd3a8061",
   "metadata": {},
   "outputs": [
    {
     "name": "stdout",
     "output_type": "stream",
     "text": [
      "                        Crime.Rate Average.Rooms Public.Transport.Access\n",
      "Crime.Rate              1.00000000   0.109411375             0.014246404\n",
      "Average.Rooms           0.10941138   1.000000000            -0.003768297\n",
      "Public.Transport.Access 0.01424640  -0.003768297             1.000000000\n",
      "Number.of.Schools       0.02442190   0.005000546             0.035876982\n",
      "Median.Home.Value       0.09161033   0.888351070             0.010709022\n",
      "                        Number.of.Schools Median.Home.Value\n",
      "Crime.Rate                    0.024421905       0.091610332\n",
      "Average.Rooms                 0.005000546       0.888351070\n",
      "Public.Transport.Access       0.035876982       0.010709022\n",
      "Number.of.Schools             1.000000000       0.004667281\n",
      "Median.Home.Value             0.004667281       1.000000000\n",
      "                  row col\n",
      "Median.Home.Value   5   2\n",
      "Average.Rooms       2   5\n"
     ]
    }
   ],
   "source": [
    "#Calculons la corrélation \n",
    "cor_matrix<-cor(data,use=\"complete.obs\")\n",
    "\n",
    "#Affichons la matrix de correlation\n",
    "print(cor_matrix)\n",
    "\n",
    "#Identifions la paire des variables avec la correlation la plus élevée \n",
    "high_corr <- which(abs(cor_matrix) == max(abs(cor_matrix[upper.tri(cor_matrix)])), arr.ind = TRUE)\n",
    "print(high_corr)"
   ]
  },
  {
   "cell_type": "code",
   "execution_count": 25,
   "id": "706c29d9",
   "metadata": {},
   "outputs": [
    {
     "data": {
      "image/png": "[encoded data removed]",
      "text/plain": [
       "plot without title"
      ]
     },
     "metadata": {
      "image/png": {
       "height": 420,
       "width": 420
      }
     },
     "output_type": "display_data"
    }
   ],
   "source": [
    "# Transformons la matrice de corrélation pour ggplot\n",
    "cor_melted <- melt(cor_matrix)\n",
    "\n",
    "# Créons une heatmap\n",
    "ggplot(data = cor_melted, aes(x = Var1, y = Var2, fill = value)) +\n",
    "  geom_tile() +\n",
    "  scale_fill_gradient2(low = \"blue\", high = \"red\", mid = \"white\", \n",
    "                       limit = c(-1, 1), name=\"Correlation\") +\n",
    "  theme_minimal() +\n",
    "  theme(axis.text.x = element_text(angle = 45, hjust = 1)) +\n",
    "  labs(title = \"Heatmap des Corrélations\", x = \"Variables\", y = \"Variables\")"
   ]
  },
  {
   "cell_type": "raw",
   "id": "d3fec5c6",
   "metadata": {},
   "source": [
    "5. Gestion des Données Manquantes"
   ]
  },
  {
   "cell_type": "code",
   "execution_count": 26,
   "id": "c656ad72",
   "metadata": {},
   "outputs": [
    {
     "name": "stdout",
     "output_type": "stream",
     "text": [
      "             Crime.Rate           Average.Rooms Public.Transport.Access \n",
      "                     25                      15                       0 \n",
      "      Number.of.Schools       Median.Home.Value \n",
      "                      0                       0 \n"
     ]
    }
   ],
   "source": [
    "# Vérifier les valeurs manquantes\n",
    "missing_values <- colSums(is.na(data))\n",
    "print(missing_values)\n",
    "\n"
   ]
  },
  {
   "cell_type": "code",
   "execution_count": 27,
   "id": "a196f980",
   "metadata": {},
   "outputs": [],
   "source": [
    "#Imputation des valeurs manquantes avec la médiane \n",
    "\n",
    "data <- data %>%\n",
    "  mutate(across(everything(), ~ifelse(is.na(.), median(., na.rm = TRUE), .)))\n",
    "\n"
   ]
  },
  {
   "cell_type": "code",
   "execution_count": 28,
   "id": "b82cae3d",
   "metadata": {},
   "outputs": [
    {
     "name": "stdout",
     "output_type": "stream",
     "text": [
      "             Crime.Rate           Average.Rooms Public.Transport.Access \n",
      "                      0                       0                       0 \n",
      "      Number.of.Schools       Median.Home.Value \n",
      "                      0                       0 \n"
     ]
    }
   ],
   "source": [
    "# Vérifions à nouveau les valeurs manquantes\n",
    "missing_values_after <- colSums(is.na(data))\n",
    "print(missing_values_after)"
   ]
  },
  {
   "cell_type": "code",
   "execution_count": 32,
   "id": "874cba47",
   "metadata": {},
   "outputs": [
    {
     "name": "stderr",
     "output_type": "stream",
     "text": [
      "Warning message:\n",
      "\"package 'naniar' was built under R version 4.4.2\"\n"
     ]
    },
    {
     "data": {
      "image/png": "[encoded data removed]",
      "text/plain": [
       "plot without title"
      ]
     },
     "metadata": {
      "image/png": {
       "height": 420,
       "width": 420
      }
     },
     "output_type": "display_data"
    }
   ],
   "source": [
    "#Visualisons les valeurs manquantes\n",
    "#install.packages(\"naniar\")\n",
    "library(naniar)\n",
    "\n",
    "gg_miss_var(data)"
   ]
  },
  {
   "cell_type": "markdown",
   "id": "2a0091c5",
   "metadata": {},
   "source": [
    "6. Gestion des Données aberrants "
   ]
  },
  {
   "cell_type": "code",
   "execution_count": 41,
   "id": "fde096b4",
   "metadata": {},
   "outputs": [
    {
     "data": {
      "image/png": "[encoded data removed]",
      "text/plain": [
       "Plot with title \"Median.Home.Value\""
      ]
     },
     "metadata": {
      "image/png": {
       "height": 420,
       "width": 420
      }
     },
     "output_type": "display_data"
    }
   ],
   "source": [
    "#Données aberrantes\n",
    "\n",
    "# Visualisons la distribution de chaque variable avec des boîtes à moustaches\n",
    "par(mfrow = c(2, 3)) # Divisons la fenêtre en 2 lignes et 3 colonnes\n",
    "for (col in names(data)) {\n",
    "  boxplot(data[[col]], main = col)\n",
    "}\n",
    "par(mfrow = c(1, 1)) # Revenons à un seul graphique par fenêtre"
   ]
  },
  {
   "cell_type": "code",
   "execution_count": 44,
   "id": "be8160b3",
   "metadata": {
    "scrolled": true
   },
   "outputs": [
    {
     "name": "stdout",
     "output_type": "stream",
     "text": [
      "[1] \"Pourcentage de valeurs aberrantes pour Crime.Rate: 0.59%\"\n",
      "[1] \"Pourcentage de valeurs aberrantes pour Average.Rooms: 1.38%\"\n",
      "[1] \"Pourcentage de valeurs aberrantes pour Public.Transport.Access: 0%\"\n",
      "[1] \"Pourcentage de valeurs aberrantes pour Number.of.Schools: 2.57%\"\n",
      "[1] \"Pourcentage de valeurs aberrantes pour Median.Home.Value: 0.4%\"\n"
     ]
    }
   ],
   "source": [
    "\n",
    "# Calculons le pourcentage de valeurs aberrantes pour chaque variable\n",
    "for (col in names(data)) {\n",
    "  # Calculer l'écart interquartile (IQR)\n",
    "  iqr <- IQR(data[[col]])\n",
    "  \n",
    "  # Définissons les seuils pour les valeurs aberrantes\n",
    "  lower_bound <- quantile(data[[col]], 0.25) - 1.5 * iqr\n",
    "  upper_bound <- quantile(data[[col]], 0.75) + 1.5 * iqr\n",
    "  \n",
    "  # Identifions les valeurs aberrantes\n",
    "  outliers <- data[[col]] < lower_bound | data[[col]] > upper_bound\n",
    "  \n",
    "  # Calculons le pourcentage de valeurs aberrantes\n",
    "  outlier_pct <- round(100 * sum(outliers) / nrow(data), 2)\n",
    "  \n",
    "  # Affichons les résultats\n",
    "  print(paste0(\"Pourcentage de valeurs aberrantes pour \", col, \": \", outlier_pct, \"%\"))\n",
    "}"
   ]
  },
  {
   "cell_type": "code",
   "execution_count": 45,
   "id": "8a82d113",
   "metadata": {},
   "outputs": [],
   "source": [
    "#Remplacons les valeurs aberrantes par la médiane de la variable\n",
    "median_value <- median(data$Number.of.Schools, na.rm = TRUE)\n",
    "data$Number.of.Schools[data$Number.of.Schools < lower_bound | data$Number.of.Schools > upper_bound] <- median_value"
   ]
  },
  {
   "cell_type": "code",
   "execution_count": 46,
   "id": "37f6a29e",
   "metadata": {},
   "outputs": [
    {
     "data": {
      "image/png": "[encoded data removed]",
      "text/plain": [
       "plot without title"
      ]
     },
     "metadata": {
      "image/png": {
       "height": 420,
       "width": 420
      }
     },
     "output_type": "display_data"
    }
   ],
   "source": [
    "\n",
    "# Créer un boxplot pour chaque variable afin de visualiser les valeurs aberrantes\n",
    "ggplot(data, aes(x = \"\", y = Number.of.Schools)) +\n",
    "  geom_boxplot(fill = \"lightblue\", outlier.colour = \"red\") +\n",
    "  labs(title = \"Boxplot de Number.of.Schools après traitement des valeurs aberrantes\",\n",
    "       y = \"Number of Schools\") +\n",
    "  theme_minimal()"
   ]
  },
  {
   "cell_type": "markdown",
   "id": "bb548470",
   "metadata": {},
   "source": [
    "7. Gestion des doublons"
   ]
  },
  {
   "cell_type": "code",
   "execution_count": 47,
   "id": "528b97bc",
   "metadata": {},
   "outputs": [
    {
     "name": "stdout",
     "output_type": "stream",
     "text": [
      "[1] \"Il n'y a pas de doublons dans le jeu de données.\"\n"
     ]
    }
   ],
   "source": [
    "# Vérifier s'il y a des doublons\n",
    "duplicates <- data[duplicated(data) | duplicated(data, fromLast = TRUE), ]\n",
    "\n",
    "# Afficher les doublons éventuels\n",
    "if (nrow(duplicates) > 0) {\n",
    "  print(\"Voici les doublons détectés :\")\n",
    "  print(duplicates)\n",
    "} else {\n",
    "  print(\"Il n'y a pas de doublons dans le jeu de données.\")\n",
    "}"
   ]
  },
  {
   "cell_type": "markdown",
   "id": "51bf71d5",
   "metadata": {},
   "source": [
    "### 2.Visualisation des Données"
   ]
  },
  {
   "cell_type": "code",
   "execution_count": 48,
   "id": "96fd7833",
   "metadata": {},
   "outputs": [
    {
     "data": {
      "image/png": "[encoded data removed]",
      "text/plain": [
       "plot without title"
      ]
     },
     "metadata": {
      "image/png": {
       "height": 420,
       "width": 420
      }
     },
     "output_type": "display_data"
    }
   ],
   "source": [
    "\n",
    "# Définissons une palette de couleurs\n",
    "my_colors <- c(\"#4daf4a\", \"#984ea3\", \"#ff7f00\", \"#a65628\", \"#f781bf\", \n",
    "               \"#e41a1c\", \"#377eb8\", \"#ffff33\", \"#a6cee3\")\n",
    "\n",
    "# Créons l'histogramme \n",
    "ggplot(data, aes(x = Median.Home.Value)) +\n",
    "  geom_histogram(bins = 9, fill = my_colors, color = \"white\", alpha = 0.7) +\n",
    "  labs(title = \"Répartition des valeurs médianes des habitations\",\n",
    "       x = \"Valeur médiane des habitations\", \n",
    "       y = \"Fréquence\") +\n",
    "  theme_minimal()"
   ]
  },
  {
   "cell_type": "markdown",
   "id": "b72cad30",
   "metadata": {},
   "source": [
    "### 3.Test d'Hypothèse"
   ]
  },
  {
   "cell_type": "markdown",
   "id": "fce9d1d1",
   "metadata": {},
   "source": [
    "1.Définir les taux de criminalité \"élevés\" et \"bas\""
   ]
  },
  {
   "cell_type": "code",
   "execution_count": 50,
   "id": "5a49ad8f",
   "metadata": {},
   "outputs": [],
   "source": [
    "#Utilisons la mediane de la variable \"Crime.Rate\"\n",
    "\n",
    "#Calculons la mediane du taux de criminalité \n",
    "crime_rate_median<-median(data$Crime.Rate)\n",
    "\n",
    "#Creons une nouvelle variable\"Crime.Category\"\n",
    "data$Crime.Category <- ifelse(data$Crime.Rate >= crime_rate_median, \"Élevé\", \"Bas\")"
   ]
  },
  {
   "cell_type": "markdown",
   "id": "e8fdf24b",
   "metadata": {},
   "source": [
    "2.Vérifier les hypothèses du test t"
   ]
  },
  {
   "cell_type": "code",
   "execution_count": 51,
   "id": "35fd72a9",
   "metadata": {},
   "outputs": [
    {
     "data": {
      "text/plain": [
       "\n",
       "\tShapiro-Wilk normality test\n",
       "\n",
       "data:  data$Median.Home.Value[data$Crime.Category == \"Élevé\"]\n",
       "W = 0.99612, p-value = 0.7564\n"
      ]
     },
     "metadata": {},
     "output_type": "display_data"
    },
    {
     "data": {
      "text/plain": [
       "\n",
       "\tShapiro-Wilk normality test\n",
       "\n",
       "data:  data$Median.Home.Value[data$Crime.Category == \"Bas\"]\n",
       "W = 0.99583, p-value = 0.7674\n"
      ]
     },
     "metadata": {},
     "output_type": "display_data"
    }
   ],
   "source": [
    "#tiliser le test de Shapiro-Wilk pour vérifier si les distributions de \"Median.Home.Value\" sont normales dans chaque groupe de taux de criminalité.\n",
    "# Vérifions la normalité pour le groupe \"Élevé\"\n",
    "shapiro.test(data$Median.Home.Value[data$Crime.Category == \"Élevé\"])\n",
    "\n",
    "# Vérifions la normalité pour le groupe \"Bas\" \n",
    "shapiro.test(data$Median.Home.Value[data$Crime.Category == \"Bas\"])"
   ]
  },
  {
   "cell_type": "code",
   "execution_count": 61,
   "id": "0b8c7fe1",
   "metadata": {},
   "outputs": [
    {
     "name": "stderr",
     "output_type": "stream",
     "text": [
      "Warning message:\n",
      "\"package 'car' was built under R version 4.4.2\"\n",
      "Loading required package: carData\n",
      "\n",
      "Warning message:\n",
      "\"package 'carData' was built under R version 4.4.2\"\n",
      "\n",
      "Attaching package: 'car'\n",
      "\n",
      "\n",
      "The following object is masked from 'package:dplyr':\n",
      "\n",
      "    recode\n",
      "\n",
      "\n",
      "Warning message in leveneTest.default(y = y, group = group, ...):\n",
      "\"group coerced to factor.\"\n"
     ]
    },
    {
     "name": "stdout",
     "output_type": "stream",
     "text": [
      "Levene's Test for Homogeneity of Variance (center = median)\n",
      "       Df F value Pr(>F)\n",
      "group   1  2.6073  0.107\n",
      "      504               \n"
     ]
    }
   ],
   "source": [
    "#Vérifions l'homogénéité de la variance\n",
    "#Utiliserons le test de Levene pour vérifier l'égalité des variances entre les deux groupes.\n",
    "\n",
    "library(car)\n",
    "\n",
    "# Effectuons le test de Levene\n",
    "levene_test <- leveneTest(Median.Home.Value ~ Crime.Category, data = data)\n",
    "print(levene_test)"
   ]
  },
  {
   "cell_type": "markdown",
   "id": "59f3e6aa",
   "metadata": {},
   "source": [
    "3.Effectuer le test t\n"
   ]
  },
  {
   "cell_type": "code",
   "execution_count": 62,
   "id": "b97ec238",
   "metadata": {},
   "outputs": [
    {
     "name": "stdout",
     "output_type": "stream",
     "text": [
      "\n",
      "\tTwo Sample t-test\n",
      "\n",
      "data:  Median.Home.Value by Crime.Category\n",
      "t = -0.84537, df = 504, p-value = 0.3983\n",
      "alternative hypothesis: true difference in means between group Bas and group Élevé is not equal to 0\n",
      "95 percent confidence interval:\n",
      " -1.3736857  0.5471743\n",
      "sample estimates:\n",
      "  mean in group Bas mean in group Élevé \n",
      "           46.88631            47.29957 \n",
      "\n"
     ]
    }
   ],
   "source": [
    "# Effectuons le test t\n",
    "t_test_result <- t.test(Median.Home.Value ~ Crime.Category, data = data, var.equal = TRUE)\n",
    "\n",
    "# Affichons les résultats\n",
    "print(t_test_result)"
   ]
  },
  {
   "cell_type": "markdown",
   "id": "523c083d",
   "metadata": {},
   "source": [
    "### 4.Modèle de Régression Linéaire"
   ]
  },
  {
   "cell_type": "markdown",
   "id": "fd63e1c7",
   "metadata": {},
   "source": [
    " 1 : Créer le Modèle de Régression Linéaire"
   ]
  },
  {
   "cell_type": "code",
   "execution_count": 66,
   "id": "0fa3b04b",
   "metadata": {},
   "outputs": [
    {
     "data": {
      "text/plain": [
       "\n",
       "Call:\n",
       "lm(formula = Median.Home.Value ~ Average.Rooms, data = data)\n",
       "\n",
       "Residuals:\n",
       "    Min      1Q  Median      3Q     Max \n",
       "-8.6212 -1.6873  0.0096  1.7347 13.9495 \n",
       "\n",
       "Coefficients:\n",
       "              Estimate Std. Error t value Pr(>|t|)    \n",
       "(Intercept)     3.7854     1.0944   3.459 0.000588 ***\n",
       "Average.Rooms   7.1886     0.1805  39.823  < 2e-16 ***\n",
       "---\n",
       "Signif. codes:  0 '***' 0.001 '**' 0.01 '*' 0.05 '.' 0.1 ' ' 1\n",
       "\n",
       "Residual standard error: 2.698 on 504 degrees of freedom\n",
       "Multiple R-squared:  0.7588,\tAdjusted R-squared:  0.7584 \n",
       "F-statistic:  1586 on 1 and 504 DF,  p-value: < 2.2e-16\n"
      ]
     },
     "metadata": {},
     "output_type": "display_data"
    }
   ],
   "source": [
    "modele <- lm(Median.Home.Value ~ Average.Rooms, data = data)\n",
    "\n",
    "# Affichons les résultats du modèle\n",
    "summary(modele)"
   ]
  },
  {
   "cell_type": "markdown",
   "id": "1291577f",
   "metadata": {},
   "source": [
    "2 : Créer le Nuage de Points de Régression"
   ]
  },
  {
   "cell_type": "code",
   "execution_count": 69,
   "id": "dc903cc6",
   "metadata": {
    "scrolled": false
   },
   "outputs": [
    {
     "name": "stderr",
     "output_type": "stream",
     "text": [
      "\u001b[1m\u001b[22m`geom_smooth()` using formula = 'y ~ x'\n"
     ]
    },
    {
     "data": {
      "image/png": "[encoded data removed]",
      "text/plain": [
       "plot without title"
      ]
     },
     "metadata": {
      "image/png": {
       "height": 420,
       "width": 420
      }
     },
     "output_type": "display_data"
    }
   ],
   "source": [
    "\n",
    "# Créons le graphique de dispersion avec la ligne de régression\n",
    "ggplot(data, aes(x = Average.Rooms, y = Median.Home.Value)) +\n",
    "  geom_point(alpha = 0.6) +  # Ajoutons les points de dispersion\n",
    "  geom_smooth(method = \"lm\", col = \"red\", se = FALSE) +  # Ajouter la ligne de régression\n",
    "  labs(title = \"Nuage de Points de Régression : Taille Moyenne des Pièces vs Valeur Médiane des Habitations\",\n",
    "       x = \"Taille Moyenne des Pièces\",\n",
    "       y = \"Valeur Médiane des Habitations\") +  # Ajoutons les labels\n",
    "  theme_minimal()  # Appliquons un thème minimaliste"
   ]
  }
 ],
 "metadata": {
  "kernelspec": {
   "display_name": "R",
   "language": "R",
   "name": "ir"
  },
  "language_info": {
   "codemirror_mode": "r",
   "file_extension": ".r",
   "mimetype": "text/x-r-source",
   "name": "R",
   "pygments_lexer": "r",
   "version": "4.4.1"
  }
 },
 "nbformat": 4,
 "nbformat_minor": 5
}
