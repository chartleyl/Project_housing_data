{
 "cells": [
  {
   "cell_type": "markdown",
   "id": "94f3ed08",
   "metadata": {},
   "source": [
    "### 1.ANALYSE DE DONNÉES "
   ]
  },
  {
   "cell_type": "markdown",
   "id": "f3dee501",
   "metadata": {},
   "source": [
    "1.Chargement des Données"
   ]
  },
  {
   "cell_type": "code",
   "execution_count": 1,
   "id": "0be93d97",
   "metadata": {
    "vscode": {
     "languageId": "r"
    }
   },
   "outputs": [
    {
     "data": {
      "text/html": [
       "<table class=\"dataframe\">\n",
       "<caption>A data.frame: 6 × 5</caption>\n",
       "<thead>\n",
       "\t<tr><th></th><th scope=col>Crime.Rate</th><th scope=col>Average.Rooms</th><th scope=col>Public.Transport.Access</th><th scope=col>Number.of.Schools</th><th scope=col>Median.Home.Value</th></tr>\n",
       "\t<tr><th></th><th scope=col>&lt;dbl&gt;</th><th scope=col>&lt;dbl&gt;</th><th scope=col>&lt;int&gt;</th><th scope=col>&lt;int&gt;</th><th scope=col>&lt;dbl&gt;</th></tr>\n",
       "</thead>\n",
       "<tbody>\n",
       "\t<tr><th scope=row>1</th><td>      NA</td><td>5.585324</td><td>10</td><td>3</td><td>47.90077</td></tr>\n",
       "\t<tr><th scope=row>2</th><td>2.654339</td><td>5.395206</td><td> 3</td><td>6</td><td>41.53910</td></tr>\n",
       "\t<tr><th scope=row>3</th><td>4.619221</td><td>6.033965</td><td> 9</td><td>4</td><td>48.51757</td></tr>\n",
       "\t<tr><th scope=row>4</th><td>6.807575</td><td>5.418335</td><td>10</td><td>5</td><td>42.50757</td></tr>\n",
       "\t<tr><th scope=row>5</th><td>2.414617</td><td>6.189320</td><td> 2</td><td>4</td><td>51.39125</td></tr>\n",
       "\t<tr><th scope=row>6</th><td>2.414658</td><td>5.964833</td><td> 6</td><td>4</td><td>49.64657</td></tr>\n",
       "</tbody>\n",
       "</table>\n"
      ],
      "text/latex": [
       "A data.frame: 6 × 5\n",
       "\\begin{tabular}{r|lllll}\n",
       "  & Crime.Rate & Average.Rooms & Public.Transport.Access & Number.of.Schools & Median.Home.Value\\\\\n",
       "  & <dbl> & <dbl> & <int> & <int> & <dbl>\\\\\n",
       "\\hline\n",
       "\t1 &       NA & 5.585324 & 10 & 3 & 47.90077\\\\\n",
       "\t2 & 2.654339 & 5.395206 &  3 & 6 & 41.53910\\\\\n",
       "\t3 & 4.619221 & 6.033965 &  9 & 4 & 48.51757\\\\\n",
       "\t4 & 6.807575 & 5.418335 & 10 & 5 & 42.50757\\\\\n",
       "\t5 & 2.414617 & 6.189320 &  2 & 4 & 51.39125\\\\\n",
       "\t6 & 2.414658 & 5.964833 &  6 & 4 & 49.64657\\\\\n",
       "\\end{tabular}\n"
      ],
      "text/markdown": [
       "\n",
       "A data.frame: 6 × 5\n",
       "\n",
       "| <!--/--> | Crime.Rate &lt;dbl&gt; | Average.Rooms &lt;dbl&gt; | Public.Transport.Access &lt;int&gt; | Number.of.Schools &lt;int&gt; | Median.Home.Value &lt;dbl&gt; |\n",
       "|---|---|---|---|---|---|\n",
       "| 1 |       NA | 5.585324 | 10 | 3 | 47.90077 |\n",
       "| 2 | 2.654339 | 5.395206 |  3 | 6 | 41.53910 |\n",
       "| 3 | 4.619221 | 6.033965 |  9 | 4 | 48.51757 |\n",
       "| 4 | 6.807575 | 5.418335 | 10 | 5 | 42.50757 |\n",
       "| 5 | 2.414617 | 6.189320 |  2 | 4 | 51.39125 |\n",
       "| 6 | 2.414658 | 5.964833 |  6 | 4 | 49.64657 |\n",
       "\n"
      ],
      "text/plain": [
       "  Crime.Rate Average.Rooms Public.Transport.Access Number.of.Schools\n",
       "1       NA   5.585324      10                      3                \n",
       "2 2.654339   5.395206       3                      6                \n",
       "3 4.619221   6.033965       9                      4                \n",
       "4 6.807575   5.418335      10                      5                \n",
       "5 2.414617   6.189320       2                      4                \n",
       "6 2.414658   5.964833       6                      4                \n",
       "  Median.Home.Value\n",
       "1 47.90077         \n",
       "2 41.53910         \n",
       "3 48.51757         \n",
       "4 42.50757         \n",
       "5 51.39125         \n",
       "6 49.64657         "
      ]
     },
     "metadata": {},
     "output_type": "display_data"
    }
   ],
   "source": [
    "#Chargeons les données\n",
    "data<-read.csv(\"housing_data.csv\")\n",
    "\n",
    "#Inspectons les premiris lignes\n",
    "head(data)\n"
   ]
  },
  {
   "cell_type": "raw",
   "id": "1376432a",
   "metadata": {},
   "source": [
    "2. Explorer les Données"
   ]
  },
  {
   "cell_type": "code",
   "execution_count": 2,
   "id": "e9a78dc0",
   "metadata": {
    "vscode": {
     "languageId": "r"
    }
   },
   "outputs": [
    {
     "data": {
      "text/html": [
       "<table class=\"dataframe\">\n",
       "<caption>A data.frame: 6 × 5</caption>\n",
       "<thead>\n",
       "\t<tr><th></th><th scope=col>Crime.Rate</th><th scope=col>Average.Rooms</th><th scope=col>Public.Transport.Access</th><th scope=col>Number.of.Schools</th><th scope=col>Median.Home.Value</th></tr>\n",
       "\t<tr><th></th><th scope=col>&lt;dbl&gt;</th><th scope=col>&lt;dbl&gt;</th><th scope=col>&lt;int&gt;</th><th scope=col>&lt;int&gt;</th><th scope=col>&lt;dbl&gt;</th></tr>\n",
       "</thead>\n",
       "<tbody>\n",
       "\t<tr><th scope=row>501</th><td>5.315444</td><td>6.626635</td><td>9</td><td>4</td><td>51.99554</td></tr>\n",
       "\t<tr><th scope=row>502</th><td>      NA</td><td>6.444620</td><td>4</td><td>6</td><td>53.57924</td></tr>\n",
       "\t<tr><th scope=row>503</th><td>0.100000</td><td>6.734687</td><td>4</td><td>3</td><td>49.65183</td></tr>\n",
       "\t<tr><th scope=row>504</th><td>4.407423</td><td>5.625335</td><td>2</td><td>1</td><td>43.67766</td></tr>\n",
       "\t<tr><th scope=row>505</th><td>1.373394</td><td>6.922176</td><td>6</td><td>3</td><td>50.66238</td></tr>\n",
       "\t<tr><th scope=row>506</th><td>1.782187</td><td>6.138320</td><td>2</td><td>4</td><td>45.43800</td></tr>\n",
       "</tbody>\n",
       "</table>\n"
      ],
      "text/latex": [
       "A data.frame: 6 × 5\n",
       "\\begin{tabular}{r|lllll}\n",
       "  & Crime.Rate & Average.Rooms & Public.Transport.Access & Number.of.Schools & Median.Home.Value\\\\\n",
       "  & <dbl> & <dbl> & <int> & <int> & <dbl>\\\\\n",
       "\\hline\n",
       "\t501 & 5.315444 & 6.626635 & 9 & 4 & 51.99554\\\\\n",
       "\t502 &       NA & 6.444620 & 4 & 6 & 53.57924\\\\\n",
       "\t503 & 0.100000 & 6.734687 & 4 & 3 & 49.65183\\\\\n",
       "\t504 & 4.407423 & 5.625335 & 2 & 1 & 43.67766\\\\\n",
       "\t505 & 1.373394 & 6.922176 & 6 & 3 & 50.66238\\\\\n",
       "\t506 & 1.782187 & 6.138320 & 2 & 4 & 45.43800\\\\\n",
       "\\end{tabular}\n"
      ],
      "text/markdown": [
       "\n",
       "A data.frame: 6 × 5\n",
       "\n",
       "| <!--/--> | Crime.Rate &lt;dbl&gt; | Average.Rooms &lt;dbl&gt; | Public.Transport.Access &lt;int&gt; | Number.of.Schools &lt;int&gt; | Median.Home.Value &lt;dbl&gt; |\n",
       "|---|---|---|---|---|---|\n",
       "| 501 | 5.315444 | 6.626635 | 9 | 4 | 51.99554 |\n",
       "| 502 |       NA | 6.444620 | 4 | 6 | 53.57924 |\n",
       "| 503 | 0.100000 | 6.734687 | 4 | 3 | 49.65183 |\n",
       "| 504 | 4.407423 | 5.625335 | 2 | 1 | 43.67766 |\n",
       "| 505 | 1.373394 | 6.922176 | 6 | 3 | 50.66238 |\n",
       "| 506 | 1.782187 | 6.138320 | 2 | 4 | 45.43800 |\n",
       "\n"
      ],
      "text/plain": [
       "    Crime.Rate Average.Rooms Public.Transport.Access Number.of.Schools\n",
       "501 5.315444   6.626635      9                       4                \n",
       "502       NA   6.444620      4                       6                \n",
       "503 0.100000   6.734687      4                       3                \n",
       "504 4.407423   5.625335      2                       1                \n",
       "505 1.373394   6.922176      6                       3                \n",
       "506 1.782187   6.138320      2                       4                \n",
       "    Median.Home.Value\n",
       "501 51.99554         \n",
       "502 53.57924         \n",
       "503 49.65183         \n",
       "504 43.67766         \n",
       "505 50.66238         \n",
       "506 45.43800         "
      ]
     },
     "metadata": {},
     "output_type": "display_data"
    }
   ],
   "source": [
    "tail(data)"
   ]
  },
  {
   "cell_type": "code",
   "execution_count": 3,
   "id": "7d51a385",
   "metadata": {
    "vscode": {
     "languageId": "r"
    }
   },
   "outputs": [
    {
     "name": "stdout",
     "output_type": "stream",
     "text": [
      "'data.frame':\t506 obs. of  5 variables:\n",
      " $ Crime.Rate             : num  NA 2.65 4.62 6.81 2.41 ...\n",
      " $ Average.Rooms          : num  5.59 5.4 6.03 5.42 6.19 ...\n",
      " $ Public.Transport.Access: int  10 3 9 10 2 6 7 9 3 10 ...\n",
      " $ Number.of.Schools      : int  3 6 4 5 4 4 4 4 6 4 ...\n",
      " $ Median.Home.Value      : num  47.9 41.5 48.5 42.5 51.4 ...\n",
      "NULL\n"
     ]
    }
   ],
   "source": [
    "#Vérifier la structure des données \n",
    "print(str(data))\n"
   ]
  },
  {
   "cell_type": "raw",
   "id": "d48deb76",
   "metadata": {},
   "source": [
    "3. Statistiques Descriptives"
   ]
  },
  {
   "cell_type": "code",
   "execution_count": 4,
   "id": "535dd485",
   "metadata": {
    "vscode": {
     "languageId": "r"
    }
   },
   "outputs": [
    {
     "name": "stdout",
     "output_type": "stream",
     "text": [
      "   Crime.Rate        Average.Rooms   Public.Transport.Access Number.of.Schools\n",
      " Min.   : 0.005305   Min.   :4.112   Min.   : 1.000          Min.   : 0.000   \n",
      " 1st Qu.: 1.299938   1st Qu.:5.598   1st Qu.: 3.000          1st Qu.: 4.000   \n",
      " Median : 3.031481   Median :6.033   Median : 5.000          Median : 5.000   \n",
      " Mean   : 3.137415   Mean   :6.026   Mean   : 5.421          Mean   : 4.992   \n",
      " 3rd Qu.: 4.584798   3rd Qu.:6.460   3rd Qu.: 8.000          3rd Qu.: 6.000   \n",
      " Max.   :12.631829   Max.   :7.801   Max.   :10.000          Max.   :10.000   \n",
      " NA's   :25          NA's   :15                                               \n",
      " Median.Home.Value\n",
      " Min.   :31.55    \n",
      " 1st Qu.:43.23    \n",
      " Median :46.91    \n",
      " Mean   :47.10    \n",
      " 3rd Qu.:50.85    \n",
      " Max.   :62.56    \n",
      "                  \n"
     ]
    }
   ],
   "source": [
    "#Résumé des données  statistiques\n",
    "print(summary(data))"
   ]
  },
  {
   "cell_type": "code",
   "execution_count": 10,
   "id": "f91bff4e",
   "metadata": {
    "vscode": {
     "languageId": "r"
    }
   },
   "outputs": [
    {
     "name": "stdout",
     "output_type": "stream",
     "text": [
      "                                       Variable      Mean     Mode    Median\n",
      "Crime.Rate                           Crime.Rate  3.137415  0.10000  3.031481\n",
      "Average.Rooms                     Average.Rooms  6.025737       NA  6.033179\n",
      "Public.Transport.Access Public.Transport.Access  5.420949  2.00000  5.000000\n",
      "Number.of.Schools             Number.of.Schools  4.992095  5.00000  5.000000\n",
      "Median.Home.Value             Median.Home.Value 47.103558 47.90077 46.912574\n",
      "                              SDT\n",
      "Crime.Rate              2.2255712\n",
      "Average.Rooms           0.6753014\n",
      "Public.Transport.Access 2.8588366\n",
      "Number.of.Schools       1.9780821\n",
      "Median.Home.Value       5.4893623\n"
     ]
    }
   ],
   "source": [
    "# Créons une fonction pour calculer le mode\n",
    "mode_function <- function(v) {\n",
    "    uniq <- unique(v)\n",
    "    uniq[which.max(tabulate(match(v, uniq)))]\n",
    "}\n",
    "\n",
    "# Calculer la moyenne, le mode, la médiane et l'écart type pour chaque variable\n",
    "means <- sapply(data, mean, na.rm = TRUE)  # Calculer les moyennes\n",
    "modes <- sapply(data, mode_function)  # Corriger l'appel de la fonction de mode\n",
    "medians <- sapply(data, median, na.rm = TRUE)  # Calculer les médianes\n",
    "sds <- sapply(data, sd, na.rm = TRUE)  # Calculer les écarts types avec na.rm\n",
    "\n",
    "# Créer un tableau avec les résultats\n",
    "resultats <- data.frame(Variable = names(data), \n",
    "                        Mean = means, \n",
    "                        Mode = modes, \n",
    "                        Median = medians, \n",
    "                        SDT = sds)\n",
    "\n",
    "# Afficher les résultats\n",
    "print(resultats)"
   ]
  },
  {
   "cell_type": "raw",
   "id": "c01b1dcd",
   "metadata": {},
   "source": [
    "4. Analyse de Corrélation"
   ]
  },
  {
   "cell_type": "code",
   "execution_count": null,
   "id": "bd3a8061",
   "metadata": {
    "vscode": {
     "languageId": "r"
    }
   },
   "outputs": [
    {
     "name": "stdout",
     "output_type": "stream",
     "text": [
      "                        Crime.Rate Average.Rooms Public.Transport.Access\n",
      "Crime.Rate              1.00000000   0.109411375             0.014246404\n",
      "Average.Rooms           0.10941138   1.000000000            -0.003768297\n",
      "Public.Transport.Access 0.01424640  -0.003768297             1.000000000\n",
      "Number.of.Schools       0.02442190   0.005000546             0.035876982\n",
      "Median.Home.Value       0.09161033   0.888351070             0.010709022\n",
      "                        Number.of.Schools Median.Home.Value\n",
      "Crime.Rate                    0.024421905       0.091610332\n",
      "Average.Rooms                 0.005000546       0.888351070\n",
      "Public.Transport.Access       0.035876982       0.010709022\n",
      "Number.of.Schools             1.000000000       0.004667281\n",
      "Median.Home.Value             0.004667281       1.000000000\n",
      "[1] 0.8883511\n"
     ]
    }
   ],
   "source": [
    "# Calculer la matrice de corrélation entre chaque paire de variables\n",
    "correlation_matrix <- cor(data, use = \"complete.obs\")\n",
    "print(correlation_matrix)\n",
    "\n",
    "# Trouver la valeur maximale de corrélation en excluant les corrélations parfaites\n",
    "max_correlation <- max(correlation_matrix[correlation_matrix < 1])\n",
    "print(max_correlation)"
   ]
  },
  {
   "cell_type": "code",
   "execution_count": 11,
   "id": "706c29d9",
   "metadata": {
    "vscode": {
     "languageId": "r"
    }
   },
   "outputs": [
    {
     "name": "stderr",
     "output_type": "stream",
     "text": [
      "Warning message:\n",
      "\"package 'corrplot' was built under R version 4.4.2\"\n",
      "corrplot 0.95 loaded\n",
      "\n"
     ]
    },
    {
     "data": {
      "image/png": "[encoded data removed]",
      "text/plain": [
       "Plot with title \"Matrice de Corrélation\""
      ]
     },
     "metadata": {
      "image/png": {
       "height": 420,
       "width": 420
      }
     },
     "output_type": "display_data"
    }
   ],
   "source": [
    "# Chargeons le package\n",
    "library(corrplot)\n",
    "\n",
    "# Calculons de la matrice de corrélation\n",
    "cor_matrix <- cor(data, use = \"complete.obs\")\n",
    "\n",
    "# Afficheons de la matrice de corrélation\n",
    "corrplot(cor_matrix, method = \"color\", \n",
    "         col = colorRampPalette(c(\"blue\", \"white\", \"red\"))(200), \n",
    "         type = \"upper\", \n",
    "         tl.col = \"black\", \n",
    "         tl.srt = 45, \n",
    "         addCoef.col = \"black\", \n",
    "         mar = c(0, 0, 1, 0)) # Ajustement des marges\n",
    "\n",
    "# Ajoutons d'un titre\n",
    "title(main = \"Matrice de Corrélation\", cex.main = 1.5) # Taille du titre"
   ]
  },
  {
   "cell_type": "raw",
   "id": "d3fec5c6",
   "metadata": {},
   "source": [
    "5. Gestion des Données Manquantes"
   ]
  },
  {
   "cell_type": "code",
   "execution_count": 12,
   "id": "c656ad72",
   "metadata": {
    "vscode": {
     "languageId": "r"
    }
   },
   "outputs": [
    {
     "name": "stdout",
     "output_type": "stream",
     "text": [
      "[1] \"Valeurs manquantes par colonne :\"\n",
      "   Crime.Rate Average.Rooms \n",
      "           25            15 \n"
     ]
    },
    {
     "data": {
      "image/png": "[encoded data removed]",
      "text/plain": [
       "plot without title"
      ]
     },
     "metadata": {
      "image/png": {
       "height": 420,
       "width": 420
      }
     },
     "output_type": "display_data"
    }
   ],
   "source": [
    "# Vérifier les valeurs manquantes\n",
    "# Installer les bibliothèques si nécessaire\n",
    "# install.packages(\"dplyr\")\n",
    "# install.packages(\"ggplot2\")\n",
    "# install.packages(\"visdat\")\n",
    "# install.packages(\"tidyr\")\n",
    "# install.packages(\"naniar\")\n",
    "\n",
    "suppressWarnings({\n",
    "  # Charger les packages nécessaires\n",
    "  library(dplyr)\n",
    "  library(ggplot2)\n",
    "  library(visdat)\n",
    "  library(tidyr)\n",
    "  library(naniar)\n",
    "})\n",
    "\n",
    "# Vérifions les valeurs manquantes\n",
    "missing_values <- colSums(is.na(data))\n",
    "\n",
    "# Affichons les valeurs manquantes\n",
    "print(\"Valeurs manquantes par colonne :\")\n",
    "print(missing_values[missing_values > 0])\n",
    "\n",
    "# Créons un data frame pour les valeurs manquantes\n",
    "missing_df <- data.frame(Variable = names(missing_values[missing_values > 0]),\n",
    "                          Missing_Count = missing_values[missing_values > 0])\n",
    "\n",
    "# Diagramme en barres des valeurs manquantes\n",
    "ggplot(missing_df, aes(x = reorder(Variable, -Missing_Count), y = Missing_Count)) +\n",
    "  geom_bar(stat = \"identity\", fill = \"#4CAF50\") +\n",
    "  coord_flip() +  # Pour faire une orientation horizontale\n",
    "  theme_minimal() +\n",
    "  labs(title = \"Nombre de Valeurs Manquantes par Variable\",\n",
    "       x = \"Variables\",\n",
    "       y = \"Nombre de Valeurs Manquantes\")"
   ]
  },
  {
   "cell_type": "code",
   "execution_count": 13,
   "id": "11526c53",
   "metadata": {
    "vscode": {
     "languageId": "r"
    }
   },
   "outputs": [
    {
     "name": "stdout",
     "output_type": "stream",
     "text": [
      "[1] 1.0000000 1.0000000 0.8883511 1.0000000 1.0000000 0.8883511 1.0000000\n"
     ]
    }
   ],
   "source": [
    "significant_correlations <- cor_matrix[abs(cor_matrix) > 0.5]\n",
    "print(significant_correlations)"
   ]
  },
  {
   "cell_type": "code",
   "execution_count": 14,
   "id": "a196f980",
   "metadata": {
    "vscode": {
     "languageId": "r"
    }
   },
   "outputs": [],
   "source": [
    "#Imputation des valeurs manquantes avec la médiane \n",
    "\n",
    "data <- data %>%\n",
    "  mutate(across(everything(), ~ifelse(is.na(.), median(., na.rm = TRUE), .)))\n",
    "\n"
   ]
  },
  {
   "cell_type": "code",
   "execution_count": 15,
   "id": "b82cae3d",
   "metadata": {
    "vscode": {
     "languageId": "r"
    }
   },
   "outputs": [
    {
     "name": "stdout",
     "output_type": "stream",
     "text": [
      "[1] \"Valeurs manquantes par colonne après imputation :\"\n",
      "named numeric(0)\n",
      "[1] \"Il n'y a plus de valeurs manquantes dans le dataset.\"\n"
     ]
    }
   ],
   "source": [
    "# Vérifions à nouveau les valeurs manquantes après imputation\n",
    "missing_values_after <- colSums(is.na(data))\n",
    "\n",
    "# Affichons les valeurs manquantes après imputation\n",
    "print(\"Valeurs manquantes par colonne après imputation :\")\n",
    "print(missing_values_after[missing_values_after > 0])\n",
    "\n",
    "# Optionnel : Vérification rapide\n",
    "if (all(missing_values_after == 0)) {\n",
    "  print(\"Il n'y a plus de valeurs manquantes dans le dataset.\")\n",
    "} else {\n",
    "  print(\"Il y a encore des valeurs manquantes.\")\n",
    "}"
   ]
  },
  {
   "cell_type": "code",
   "execution_count": 16,
   "id": "874cba47",
   "metadata": {
    "vscode": {
     "languageId": "r"
    }
   },
   "outputs": [
    {
     "data": {
      "image/png": "[encoded data removed]",
      "text/plain": [
       "plot without title"
      ]
     },
     "metadata": {
      "image/png": {
       "height": 420,
       "width": 420
      }
     },
     "output_type": "display_data"
    }
   ],
   "source": [
    "#Visualisons les valeurs manquantes\n",
    "library(naniar)\n",
    "\n",
    "\n",
    "#Visualisation avec vis_miss sans scale_fill_manual\n",
    "vis_miss(data) +\n",
    "  labs(title = \"Visualisation des Valeurs Manquantes\",\n",
    "       subtitle = \"Après imputation\") +\n",
    "  theme(legend.position = \"bottom\")  #position legende\n",
    "\n"
   ]
  },
  {
   "cell_type": "markdown",
   "id": "2a0091c5",
   "metadata": {},
   "source": [
    "6. Gestion des Données aberrants "
   ]
  },
  {
   "cell_type": "code",
   "execution_count": 17,
   "id": "fde096b4",
   "metadata": {
    "vscode": {
     "languageId": "r"
    }
   },
   "outputs": [
    {
     "data": {
      "image/png": "[encoded data removed]",
      "text/plain": [
       "Plot with title \"Avant - Median.Home.Value\""
      ]
     },
     "metadata": {
      "image/png": {
       "height": 420,
       "width": 420
      }
     },
     "output_type": "display_data"
    }
   ],
   "source": [
    "# Données aberrantes\n",
    "\n",
    "# Visualisation avant remplacement des valeurs aberrantes avec couleurs personnalisées\n",
    "par(mfrow = c(2, 3))  # Diviser la fenêtre en 2 lignes et 3 colonnes\n",
    "\n",
    "# Boucle à travers les colonnes de données\n",
    "for (col in names(data)) {\n",
    "  # Vérifier si la colonne est numérique\n",
    "  if (is.numeric(data[[col]])) {\n",
    "    boxplot(data[[col]], \n",
    "            main = paste(\"Avant -\", col), \n",
    "            ylim = range(data[[col]], na.rm = TRUE), \n",
    "            col = \"#4CAF50\",  # Couleur de la boîte\n",
    "            border = \"darkgreen\",  # Couleur des bordures\n",
    "            outline = TRUE)  # Afficher les valeurs aberrantes\n",
    "    \n",
    "    # Calculer les valeurs aberrantes\n",
    "    outliers <- data[[col]][data[[col]] < (quantile(data[[col]], 0.25, na.rm = TRUE) - 1.5 * IQR(data[[col]], na.rm = TRUE)) | \n",
    "                                    data[[col]] > (quantile(data[[col]], 0.75, na.rm = TRUE) + 1.5 * IQR(data[[col]], na.rm = TRUE))]\n",
    "    \n",
    "    # Ajouter les points rouges pour les valeurs aberrantes\n",
    "    points(outliers, pch = 16, col = \"red\")  # Points rouges pour les valeurs aberrantes\n",
    "  } else {\n",
    "    # Optionnel : afficher un message pour les colonnes non numériques\n",
    "    cat(paste(\"La colonne\", col, \"n'est pas numérique et a été ignorée.\\n\"))\n",
    "  }\n",
    "}\n",
    "\n",
    "par(mfrow = c(1, 1))  # Revenir à un seul graphique par fenêtre"
   ]
  },
  {
   "cell_type": "code",
   "execution_count": 18,
   "id": "8a82d113",
   "metadata": {
    "vscode": {
     "languageId": "r"
    }
   },
   "outputs": [
    {
     "name": "stdout",
     "output_type": "stream",
     "text": [
      "[1] \"Pourcentage de valeurs aberrantes pour Crime.Rate: 0.59%\"\n",
      "[1] \"Pourcentage de valeurs aberrantes pour Average.Rooms: 1.38%\"\n",
      "[1] \"Pourcentage de valeurs aberrantes pour Public.Transport.Access: 0%\"\n",
      "[1] \"Pourcentage de valeurs aberrantes pour Number.of.Schools: 2.57%\"\n",
      "[1] \"Pourcentage de valeurs aberrantes pour Median.Home.Value: 0.4%\"\n"
     ]
    }
   ],
   "source": [
    "# Calculons le pourcentage de valeurs aberrantes pour chaque variable\n",
    "for (col in names(data)) {\n",
    "  # Calculer l'écart interquartile (IQR)\n",
    "  iqr <- IQR(data[[col]], na.rm = TRUE)\n",
    "  \n",
    "  # Définissons les seuils pour les valeurs aberrantes\n",
    "  lower_bound <- quantile(data[[col]], 0.25, na.rm = TRUE) - 1.5 * iqr\n",
    "  upper_bound <- quantile(data[[col]], 0.75, na.rm = TRUE) + 1.5 * iqr\n",
    "  \n",
    "  # Identifions les valeurs aberrantes\n",
    "  outliers <- data[[col]] < lower_bound | data[[col]] > upper_bound\n",
    "  \n",
    "  # Calculons le pourcentage de valeurs aberrantes\n",
    "  outlier_pct <- round(100 * sum(outliers) / nrow(data), 2)\n",
    "  \n",
    "  # Affichons les résultats\n",
    "  print(paste0(\"Pourcentage de valeurs aberrantes pour \", col, \": \", outlier_pct, \"%\"))\n",
    "}"
   ]
  },
  {
   "cell_type": "code",
   "execution_count": 20,
   "id": "a0cb3a28",
   "metadata": {
    "vscode": {
     "languageId": "r"
    }
   },
   "outputs": [
    {
     "name": "stdout",
     "output_type": "stream",
     "text": [
      "Pour Crime.Rate : 1 valeurs aberrantes remplacées par la médiane 3.031481002 \n",
      "Pour Average.Rooms : 2 valeurs aberrantes remplacées par la médiane 6.03317907 \n",
      "Pour Public.Transport.Access : 0 valeurs aberrantes remplacées par la médiane 5 \n",
      "Pour Number.of.Schools : 0 valeurs aberrantes remplacées par la médiane 5 \n",
      "Pour Median.Home.Value : 0 valeurs aberrantes remplacées par la médiane 46.91257421 \n"
     ]
    }
   ],
   "source": [
    "# Remplacement des valeurs aberrantes\n",
    "library(dplyr)\n",
    "\n",
    "# Liste des colonnes à traiter\n",
    "columns_to_replace <- c(\"Crime.Rate\", \n",
    "                         \"Average.Rooms\", \n",
    "                         \"Public.Transport.Access\", \n",
    "                         \"Number.of.Schools\", \n",
    "                         \"Median.Home.Value\")\n",
    "\n",
    "# Boucle à travers les colonnes spécifiées\n",
    "for (col in columns_to_replace) {\n",
    "  # Calculer l'écart interquartile (IQR)\n",
    "  iqr <- IQR(data[[col]], na.rm = TRUE)\n",
    "  \n",
    "  # Définir les seuils pour les valeurs aberrantes\n",
    "  lower_bound <- quantile(data[[col]], 0.25, na.rm = TRUE) - 1.5 * iqr\n",
    "  upper_bound <- quantile(data[[col]], 0.75, na.rm = TRUE) + 1.5 * iqr\n",
    "  \n",
    "  # Compter les valeurs aberrantes avant le remplacement\n",
    "  outlier_count <- sum(data[[col]] < lower_bound | data[[col]] > upper_bound, na.rm = TRUE)\n",
    "  \n",
    "  # Remplacer les valeurs aberrantes par la médiane\n",
    "  median_value <- median(data[[col]], na.rm = TRUE)  # Calculer la médiane\n",
    "  data[[col]][data[[col]] < lower_bound | data[[col]] > upper_bound] <- median_value\n",
    "  \n",
    "  # Afficher les résultats du remplacement\n",
    "  cat(paste(\"Pour\", col, \":\", outlier_count, \"valeurs aberrantes remplacées par la médiane\", median_value, \"\\n\"))\n",
    "}"
   ]
  },
  {
   "cell_type": "code",
   "execution_count": 22,
   "id": "5706fdb7",
   "metadata": {
    "vscode": {
     "languageId": "r"
    }
   },
   "outputs": [
    {
     "data": {
      "text/plain": [
       "   Crime.Rate       Average.Rooms   Public.Transport.Access Number.of.Schools\n",
       " Min.   :0.005305   Min.   :4.452   Min.   : 1.000          Min.   :1.000    \n",
       " 1st Qu.:1.375937   1st Qu.:5.612   1st Qu.: 3.000          1st Qu.:4.000    \n",
       " Median :3.031481   Median :6.033   Median : 5.000          Median :5.000    \n",
       " Mean   :3.072573   Mean   :6.023   Mean   : 5.421          Mean   :4.982    \n",
       " 3rd Qu.:4.469880   3rd Qu.:6.443   3rd Qu.: 8.000          3rd Qu.:6.000    \n",
       " Max.   :8.476139   Max.   :7.609   Max.   :10.000          Max.   :9.000    \n",
       " Median.Home.Value\n",
       " Min.   :32.42    \n",
       " 1st Qu.:43.35    \n",
       " Median :46.91    \n",
       " Mean   :47.10    \n",
       " 3rd Qu.:50.81    \n",
       " Max.   :61.35    "
      ]
     },
     "metadata": {},
     "output_type": "display_data"
    }
   ],
   "source": [
    "summary(data[c(\"Crime.Rate\", \"Average.Rooms\", \"Public.Transport.Access\", \"Number.of.Schools\", \"Median.Home.Value\")])"
   ]
  },
  {
   "cell_type": "code",
   "execution_count": 23,
   "id": "23eaff5b",
   "metadata": {
    "vscode": {
     "languageId": "r"
    }
   },
   "outputs": [
    {
     "data": {
      "image/png": "[encoded data removed]",
      "text/plain": [
       "Plot with title \"Histogramme de Median.Home.Value\""
      ]
     },
     "metadata": {
      "image/png": {
       "height": 420,
       "width": 420
      }
     },
     "output_type": "display_data"
    }
   ],
   "source": [
    "par(mfrow = c(2, 3))\n",
    "for (col in c(\"Crime.Rate\", \"Average.Rooms\", \"Public.Transport.Access\", \"Number.of.Schools\", \"Median.Home.Value\")) {\n",
    "    hist(data[[col]], main = paste(\"Histogramme de\", col), xlab = col, col = \"lightblue\", border = \"black\")\n",
    "}\n",
    "par(mfrow = c(1, 1))"
   ]
  },
  {
   "cell_type": "code",
   "execution_count": 24,
   "id": "ecf33d24",
   "metadata": {
    "vscode": {
     "languageId": "r"
    }
   },
   "outputs": [
    {
     "name": "stdout",
     "output_type": "stream",
     "text": [
      "                        Crime.Rate Average.Rooms Public.Transport.Access\n",
      "Crime.Rate              1.00000000   0.072819310             0.019388857\n",
      "Average.Rooms           0.07281931   1.000000000            -0.005086009\n",
      "Public.Transport.Access 0.01938886  -0.005086009             1.000000000\n",
      "Number.of.Schools       0.02875092  -0.012204462             0.001451390\n",
      "Median.Home.Value       0.07849804   0.810995796            -0.007084937\n",
      "                        Number.of.Schools Median.Home.Value\n",
      "Crime.Rate                    0.028750925       0.078498041\n",
      "Average.Rooms                -0.012204462       0.810995796\n",
      "Public.Transport.Access       0.001451390      -0.007084937\n",
      "Number.of.Schools             1.000000000      -0.002197294\n",
      "Median.Home.Value            -0.002197294       1.000000000\n"
     ]
    }
   ],
   "source": [
    "cor_matrix <- cor(data[c(\"Crime.Rate\", \"Average.Rooms\", \"Public.Transport.Access\", \"Number.of.Schools\", \"Median.Home.Value\")], use = \"complete.obs\")\n",
    "print(cor_matrix)"
   ]
  },
  {
   "cell_type": "code",
   "execution_count": 25,
   "id": "a1e101a6",
   "metadata": {
    "vscode": {
     "languageId": "r"
    }
   },
   "outputs": [
    {
     "name": "stdout",
     "output_type": "stream",
     "text": [
      "[1] \"Pourcentage de valeurs aberrantes pour Crime.Rate: 0%\"\n",
      "[1] \"Pourcentage de valeurs aberrantes pour Average.Rooms: 0%\"\n",
      "[1] \"Pourcentage de valeurs aberrantes pour Public.Transport.Access: 0%\"\n",
      "[1] \"Pourcentage de valeurs aberrantes pour Number.of.Schools: 0%\"\n",
      "[1] \"Pourcentage de valeurs aberrantes pour Median.Home.Value: 0%\"\n"
     ]
    }
   ],
   "source": [
    "# Vérifier à nouveau les valeurs aberrantes \n",
    "for (col in c(\"Crime.Rate\", \n",
    "                     \"Average.Rooms\", \n",
    "                     \"Public.Transport.Access\", \n",
    "                     \"Number.of.Schools\", \n",
    "                     \"Median.Home.Value\")) {\n",
    "  iqr <- IQR(data[[col]], na.rm = TRUE)\n",
    "  lower_bound <- quantile(data[[col]], 0.25, na.rm = TRUE) - 1.5 * iqr\n",
    "  upper_bound <- quantile(data[[col]], 0.75, na.rm = TRUE) + 1.5 * iqr\n",
    "  \n",
    "  # Identifier les valeurs aberrantes\n",
    "  outliers <- data[[col]] < lower_bound | data[[col]] > upper_bound\n",
    "  outlier_pct <- round(100 * sum(outliers) / nrow(data), 2)\n",
    "  \n",
    "  # Afficher le pourcentage de valeurs aberrantes\n",
    "  print(paste0(\"Pourcentage de valeurs aberrantes pour \", col, \": \", outlier_pct, \"%\"))\n",
    "}"
   ]
  },
  {
   "cell_type": "code",
   "execution_count": 26,
   "id": "19df2b3a",
   "metadata": {
    "vscode": {
     "languageId": "r"
    }
   },
   "outputs": [
    {
     "data": {
      "image/png": "[encoded data removed]",
      "text/plain": [
       "Plot with title \"Après - Median.Home.Value\""
      ]
     },
     "metadata": {
      "image/png": {
       "height": 420,
       "width": 420
      }
     },
     "output_type": "display_data"
    }
   ],
   "source": [
    "# Visualisation après remplacement des valeurs aberrantes avec couleurs personnalisées\n",
    "par(mfrow = c(2, 3)) # Diviser la fenêtre en 2 lignes et 3 colonnes\n",
    "for (col in names(data)) {\n",
    "  boxplot(data[[col]], \n",
    "          main = paste(\"Après -\", col), \n",
    "          ylim = range(data[[col]], na.rm = TRUE), \n",
    "          col = \"#4CAF50\", \n",
    "          border = \"darkgreen\", \n",
    "          outline = TRUE)\n",
    "  \n",
    "  points(data[[col]][data[[col]] < (quantile(data[[col]], 0.25, na.rm = TRUE) - 1.5 * IQR(data[[col]], na.rm = TRUE)) | \n",
    "                     data[[col]] > (quantile(data[[col]], 0.75, na.rm = TRUE) + 1.5 * IQR(data[[col]], na.rm = TRUE))], \n",
    "                     pch = 16, col = \"red\") # Points rouges pour les valeurs aberrantes\n",
    "}\n",
    "par(mfrow = c(1, 1)) # Revenir à un seul graphique par fenêtre"
   ]
  },
  {
   "cell_type": "markdown",
   "id": "bb548470",
   "metadata": {},
   "source": [
    "7. Gestion des doublons"
   ]
  },
  {
   "cell_type": "code",
   "execution_count": 27,
   "id": "528b97bc",
   "metadata": {
    "vscode": {
     "languageId": "r"
    }
   },
   "outputs": [
    {
     "name": "stdout",
     "output_type": "stream",
     "text": [
      "[1] \"Il n'y a pas de doublons dans le jeu de données.\"\n"
     ]
    }
   ],
   "source": [
    "# Vérifier s'il y a des doublons\n",
    "duplicates <- data[duplicated(data) | duplicated(data, fromLast = TRUE), ]\n",
    "\n",
    "# Afficher les doublons éventuels\n",
    "if (nrow(duplicates) > 0) {\n",
    "  print(\"Voici les doublons détectés :\")\n",
    "  print(duplicates)\n",
    "} else {\n",
    "  print(\"Il n'y a pas de doublons dans le jeu de données.\")\n",
    "}"
   ]
  },
  {
   "cell_type": "markdown",
   "id": "51bf71d5",
   "metadata": {},
   "source": [
    "### 2.Visualisation des Données"
   ]
  },
  {
   "cell_type": "code",
   "execution_count": 29,
   "id": "96fd7833",
   "metadata": {
    "vscode": {
     "languageId": "r"
    }
   },
   "outputs": [
    {
     "data": {
      "image/png": "[encoded data removed]",
      "text/plain": [
       "plot without title"
      ]
     },
     "metadata": {
      "image/png": {
       "height": 420,
       "width": 420
      }
     },
     "output_type": "display_data"
    }
   ],
   "source": [
    "library(ggplot2)\n",
    "\n",
    "# Définissons une couleur unique\n",
    "my_color <- \"#4daf4a\"  # Choisissez une couleur de votre palette\n",
    "\n",
    "# Créons l'histogramme \n",
    "ggplot(data, aes(x = Median.Home.Value)) +\n",
    "  geom_histogram(bins = 9, fill = my_color, color = \"white\", alpha = 0.7) +\n",
    "  labs(title = \"Répartition des valeurs médianes des habitations\",\n",
    "       x = \"Valeur médiane des habitations\", \n",
    "       y = \"Fréquence\") +\n",
    "  theme_minimal()"
   ]
  },
  {
   "cell_type": "markdown",
   "id": "b72cad30",
   "metadata": {},
   "source": [
    "### 3.Test d'Hypothèse"
   ]
  },
  {
   "cell_type": "markdown",
   "id": "fce9d1d1",
   "metadata": {},
   "source": [
    "1. Taux de criminalité \"élevés\" et \"bas\""
   ]
  },
  {
   "cell_type": "code",
   "execution_count": 51,
   "id": "64f5d128",
   "metadata": {
    "vscode": {
     "languageId": "r"
    }
   },
   "outputs": [
    {
     "data": {
      "text/html": [
       "<style>\n",
       ".list-inline {list-style: none; margin:0; padding: 0}\n",
       ".list-inline>li {display: inline-block}\n",
       ".list-inline>li:not(:last-child)::after {content: \"\\00b7\"; padding: 0 .5ex}\n",
       "</style>\n",
       "<ol class=list-inline><li>'Faible'</li><li>'Élevé'</li></ol>\n"
      ],
      "text/latex": [
       "\\begin{enumerate*}\n",
       "\\item 'Faible'\n",
       "\\item 'Élevé'\n",
       "\\end{enumerate*}\n"
      ],
      "text/markdown": [
       "1. 'Faible'\n",
       "2. 'Élevé'\n",
       "\n",
       "\n"
      ],
      "text/plain": [
       "[1] \"Faible\" \"Élevé\" "
      ]
     },
     "metadata": {},
     "output_type": "display_data"
    },
    {
     "data": {
      "text/plain": [
       "NULL"
      ]
     },
     "metadata": {},
     "output_type": "display_data"
    },
    {
     "name": "stderr",
     "output_type": "stream",
     "text": [
      "Warning message in leveneTest.default(y = y, group = group, ...):\n",
      "\"group coerced to factor.\"\n"
     ]
    },
    {
     "name": "stdout",
     "output_type": "stream",
     "text": [
      "Levene's Test for Homogeneity of Variance (center = median)\n",
      "       Df F value Pr(>F)\n",
      "group   1  0.9477 0.3308\n",
      "      504               \n"
     ]
    }
   ],
   "source": [
    "library(dplyr)   # Pour la manipulation des données\n",
    "library(car)     # Pour le test de Levene\n",
    "\n",
    "# 1. Définir les taux de criminalité \"élevés\" et \"faibles\" en fonction de la médiane de la variable Crime.Rate\n",
    "median_crime_rate <- median(data$Crime.Rate, na.rm = TRUE)\n",
    "\n",
    "data$Crime.Category <- ifelse(data$Crime.Rate > median_crime_rate, \"Élevé\", \"Faible\")\n",
    "\n",
    "# Vérifier les valeurs uniques dans Crime.Category et les niveaux\n",
    "unique(data$Crime.Category)  # Afficher les valeurs uniques\n",
    "levels(data$Crime.Category)   # Afficher les niveaux\n",
    "\n",
    "# Effectuer le test de Levene pour l'homogénéité des variances\n",
    "levene_test <- leveneTest(Median.Home.Value ~ Crime.Category, data = data)\n",
    "\n",
    "# Afficher le résultat du test\n",
    "print(levene_test)"
   ]
  },
  {
   "cell_type": "markdown",
   "id": "e8fdf24b",
   "metadata": {},
   "source": [
    "2.Vérifier les hypothèses du test t"
   ]
  },
  {
   "cell_type": "code",
   "execution_count": 52,
   "id": "0b8c7fe1",
   "metadata": {
    "vscode": {
     "languageId": "r"
    }
   },
   "outputs": [
    {
     "data": {
      "text/plain": [
       "\n",
       "\tShapiro-Wilk normality test\n",
       "\n",
       "data:  data$Median.Home.Value[data$Crime.Category == \"Élevé\"]\n",
       "W = 0.9938, p-value = 0.4389\n"
      ]
     },
     "metadata": {},
     "output_type": "display_data"
    },
    {
     "data": {
      "text/plain": [
       "\n",
       "\tShapiro-Wilk normality test\n",
       "\n",
       "data:  data$Median.Home.Value[data$Crime.Category == \"Faible\"]\n",
       "W = 0.99602, p-value = 0.7259\n"
      ]
     },
     "metadata": {},
     "output_type": "display_data"
    },
    {
     "name": "stdout",
     "output_type": "stream",
     "text": [
      "[1] \"P-value du test de Shapiro pour le taux de criminalité élevé : 0.438853099998653\"\n",
      "[1] \"P-value du test de Shapiro pour le taux de criminalité faible : 0.725916448814534\"\n"
     ]
    }
   ],
   "source": [
    "# Pour un test t, il est essentiel de vérifier la normalité et l'homogénéité des variances.\n",
    "\n",
    "# Vérification de la normalité pour chaque groupe\n",
    "test_normalite_eleve <- shapiro.test(data$Median.Home.Value[data$Crime.Category == \"Élevé\"])\n",
    "test_normalite_faible <- shapiro.test(data$Median.Home.Value[data$Crime.Category == \"Faible\"])\n",
    "\n",
    "# Afficher les résultats des tests de normalité pour chaque groupe\n",
    "test_normalite_eleve\n",
    "test_normalite_faible\n",
    "\n",
    "# Afficher les p-values des tests de Shapiro-Wilk pour chaque groupe\n",
    "print(paste(\"P-value du test de Shapiro pour le taux de criminalité élevé :\", test_normalite_eleve$p.value))\n",
    "print(paste(\"P-value du test de Shapiro pour le taux de criminalité faible :\", test_normalite_faible$p.value))"
   ]
  },
  {
   "cell_type": "markdown",
   "id": "59f3e6aa",
   "metadata": {},
   "source": [
    "3.Effectuer le test t\n"
   ]
  },
  {
   "cell_type": "code",
   "execution_count": 53,
   "id": "81a703cc",
   "metadata": {
    "vscode": {
     "languageId": "r"
    }
   },
   "outputs": [
    {
     "name": "stdout",
     "output_type": "stream",
     "text": [
      "\n",
      "\tTwo Sample t-test\n",
      "\n",
      "data:  Median.Home.Value by Crime.Category\n",
      "t = 1.0696, df = 504, p-value = 0.2853\n",
      "alternative hypothesis: true difference in means between group Élevé and group Faible is not equal to 0\n",
      "95 percent confidence interval:\n",
      " -0.4308084  1.4604428\n",
      "sample estimates:\n",
      " mean in group Élevé mean in group Faible \n",
      "            47.37770             46.86289 \n",
      "\n"
     ]
    }
   ],
   "source": [
    "t_test_result <- t.test(Median.Home.Value ~ Crime.Category, data = data, var.equal = TRUE)\n",
    "print(t_test_result)"
   ]
  },
  {
   "cell_type": "code",
   "execution_count": 58,
   "id": "9259fd59",
   "metadata": {
    "vscode": {
     "languageId": "r"
    }
   },
   "outputs": [
    {
     "name": "stdout",
     "output_type": "stream",
     "text": [
      "\n",
      "\tTwo Sample t-test\n",
      "\n",
      "data:  Median.Home.Value by Crime.Category\n",
      "t = 1.0696, df = 504, p-value = 0.2853\n",
      "alternative hypothesis: true difference in means between group Élevé and group Faible is not equal to 0\n",
      "95 percent confidence interval:\n",
      " -0.4308084  1.4604428\n",
      "sample estimates:\n",
      " mean in group Élevé mean in group Faible \n",
      "            47.37770             46.86289 \n",
      "\n",
      "[1] \"Valeur critique t à alpha = 0.05 : 1.96467263873962\"\n"
     ]
    }
   ],
   "source": [
    "# Test t à deux échantillons\n",
    "# Afficher les résultats du test\n",
    "print(t_test_result)\n",
    "\n",
    "# Définir le niveau de signification\n",
    "alpha <- 0.05\n",
    "\n",
    "# Calculer les degrés de liberté (n - 1, où n est la taille de l'échantillon)\n",
    "df <- nrow(data) - 1  \n",
    "\n",
    "# Pour un test bilatéral, nous divisons la valeur alpha par 2 pour la queue supérieure.\n",
    "# Nous utilisons 1 - (alpha/2) car qt() donne la valeur pour la queue gauche par défaut,\n",
    "# et en soustrayant de 1, nous obtenons la valeur pour la queue droite.\n",
    "valeur_critique_t <- qt(1 - (alpha/2), df)\n",
    "\n",
    "# Afficher la valeur critique t\n",
    "print(paste(\"Valeur critique t à alpha =\", alpha, \":\", valeur_critique_t))"
   ]
  },
  {
   "cell_type": "code",
   "execution_count": 56,
   "id": "ad5f408f",
   "metadata": {
    "vscode": {
     "languageId": "r"
    }
   },
   "outputs": [
    {
     "name": "stdout",
     "output_type": "stream",
     "text": [
      "[1] 1.964673\n"
     ]
    }
   ],
   "source": [
    "critical_t <- qt(1 - (alpha/2), df)\n",
    "print(critical_t)"
   ]
  },
  {
   "cell_type": "markdown",
   "id": "523c083d",
   "metadata": {},
   "source": [
    "### 4.Modèle de Régression Linéaire"
   ]
  },
  {
   "cell_type": "markdown",
   "id": "fd63e1c7",
   "metadata": {},
   "source": [
    " 1 : Créer le Modèle de Régression Linéaire"
   ]
  },
  {
   "cell_type": "code",
   "execution_count": 61,
   "id": "0fa3b04b",
   "metadata": {
    "vscode": {
     "languageId": "r"
    }
   },
   "outputs": [
    {
     "name": "stdout",
     "output_type": "stream",
     "text": [
      "\n",
      "Call:\n",
      "lm(formula = Median.Home.Value ~ Average.Rooms, data = data)\n",
      "\n",
      "Residuals:\n",
      "     Min       1Q   Median       3Q      Max \n",
      "-14.7504  -1.7855   0.0218   1.8208  14.1799 \n",
      "\n",
      "Coefficients:\n",
      "              Estimate Std. Error t value Pr(>|t|)    \n",
      "(Intercept)     4.6573     1.3712   3.397 0.000736 ***\n",
      "Average.Rooms   7.0469     0.2264  31.120  < 2e-16 ***\n",
      "---\n",
      "Signif. codes:  0 '***' 0.001 '**' 0.01 '*' 0.05 '.' 0.1 ' ' 1\n",
      "\n",
      "Residual standard error: 3.164 on 504 degrees of freedom\n",
      "Multiple R-squared:  0.6577,\tAdjusted R-squared:  0.657 \n",
      "F-statistic: 968.5 on 1 and 504 DF,  p-value: < 2.2e-16\n",
      "\n"
     ]
    }
   ],
   "source": [
    "# Pour prédire la valeur médiane des maisons en utilisant la variable du nombre moyen de pièces\n",
    "model <- lm(`Median.Home.Value` ~ `Average.Rooms`, data=data)\n",
    "print(summary(model))\n"
   ]
  },
  {
   "cell_type": "markdown",
   "id": "1291577f",
   "metadata": {},
   "source": [
    "2 : Créer le Nuage de Points de Régression"
   ]
  },
  {
   "cell_type": "code",
   "execution_count": 62,
   "id": "19837471",
   "metadata": {
    "vscode": {
     "languageId": "r"
    }
   },
   "outputs": [
    {
     "name": "stderr",
     "output_type": "stream",
     "text": [
      "\u001b[1m\u001b[22m`geom_smooth()` using formula = 'y ~ x'\n"
     ]
    },
    {
     "data": {
      "image/png": "[encoded data removed]",
      "text/plain": [
       "plot without title"
      ]
     },
     "metadata": {
      "image/png": {
       "height": 420,
       "width": 420
      }
     },
     "output_type": "display_data"
    }
   ],
   "source": [
    "regression_scatter <- ggplot(data, aes(x=Average.Rooms, y=Median.Home.Value)) +\n",
    "  geom_point( alpha=0.6) +  # Color points by Crime Rate for added depth\n",
    "  geom_smooth(method=\"lm\", col=\"red\", se=FALSE) +  # Linear regression line without shaded region\n",
    "  labs(title=\"Regression Scatter Plot of Average Rooms vs. Median Home Value\",\n",
    "       x=\"Average Rooms\",\n",
    "       y=\"Median Home Value\") +\n",
    "  theme_minimal()\n",
    "regression_scatter"
   ]
  }
 ],
 "metadata": {
  "kernelspec": {
   "display_name": "R",
   "language": "R",
   "name": "ir"
  },
  "language_info": {
   "codemirror_mode": "r",
   "file_extension": ".r",
   "mimetype": "text/x-r-source",
   "name": "R",
   "pygments_lexer": "r",
   "version": "4.4.1"
  }
 },
 "nbformat": 4,
 "nbformat_minor": 5
}
